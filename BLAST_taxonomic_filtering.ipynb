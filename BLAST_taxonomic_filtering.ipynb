{
  "nbformat": 4,
  "nbformat_minor": 0,
  "metadata": {
    "colab": {
      "name": "BLAST-taxonomic-filtering.ipynb",
      "version": "0.3.2",
      "provenance": [],
      "collapsed_sections": [],
      "include_colab_link": true
    },
    "kernelspec": {
      "name": "python3",
      "display_name": "Python 3"
    }
  },
  "cells": [
    {
      "cell_type": "markdown",
      "metadata": {
        "id": "view-in-github",
        "colab_type": "text"
      },
      "source": [
        "<a href=\"https://colab.research.google.com/github/christiam/jupyter-notebooks/blob/master/BLAST_taxonomic_filtering.ipynb\" target=\"_parent\"><img src=\"https://colab.research.google.com/assets/colab-badge.svg\" alt=\"Open In Colab\"/></a>"
      ]
    },
    {
      "metadata": {
        "id": "xROrHvoouMsB",
        "colab_type": "text"
      },
      "cell_type": "markdown",
      "source": [
        "# Taxonomic filtering in BLAST+\n",
        "This notebook demonstrates how to get the latest BLAST+ release and use its taxonomic filtering feature. This feature is available starting in the BLAST+ 2.8.0 release. \n",
        "\n"
      ]
    },
    {
      "metadata": {
        "id": "f_H9mqDmxUtw",
        "colab_type": "text"
      },
      "cell_type": "markdown",
      "source": [
        "## Download the latest BLAST+ release\n",
        "As of this writing (December 5, 2018), the latest release is BLAST+ 2.8.0. We will need to patch `update_blastdb.pl` as well  as install its dependencies."
      ]
    },
    {
      "metadata": {
        "id": "2JohgrUR3pix",
        "colab_type": "code",
        "outputId": "9b75617c-3fcf-47e6-f651-f00f8550551f",
        "colab": {
          "base_uri": "https://localhost:8080/",
          "height": 323
        }
      },
      "cell_type": "code",
      "source": [
        "! curl -s ftp://ftp.ncbi.nlm.nih.gov/blast/executables/blast+/2.8.0alpha/ncbi-blast-2.8.0-alpha+-x64-linux.tar.gz | tar -zxf -\n",
        "! curl -s ftp://ftp.ncbi.nlm.nih.gov/blast/temp/update_blastdb.pl -o ncbi-blast-2.8.0+/bin/update_blastdb.pl && chmod +x ncbi-blast-2.8.0+/bin/update_blastdb.pl\n",
        "! apt-get install -qqy libjson-perl"
      ],
      "execution_count": 0,
      "outputs": [
        {
          "output_type": "stream",
          "text": [
            "Selecting previously unselected package libcommon-sense-perl.\n",
            "(Reading database ... 26397 files and directories currently installed.)\n",
            "Preparing to unpack .../libcommon-sense-perl_3.74-2build2_amd64.deb ...\n",
            "Unpacking libcommon-sense-perl (3.74-2build2) ...\n",
            "Selecting previously unselected package libjson-perl.\n",
            "Preparing to unpack .../libjson-perl_2.97001-1_all.deb ...\n",
            "Unpacking libjson-perl (2.97001-1) ...\n",
            "Selecting previously unselected package libtypes-serialiser-perl.\n",
            "Preparing to unpack .../libtypes-serialiser-perl_1.0-1_all.deb ...\n",
            "Unpacking libtypes-serialiser-perl (1.0-1) ...\n",
            "Selecting previously unselected package libjson-xs-perl.\n",
            "Preparing to unpack .../libjson-xs-perl_3.040-1_amd64.deb ...\n",
            "Unpacking libjson-xs-perl (3.040-1) ...\n",
            "Setting up libcommon-sense-perl (3.74-2build2) ...\n",
            "Setting up libtypes-serialiser-perl (1.0-1) ...\n",
            "Processing triggers for man-db (2.8.3-2ubuntu0.1) ...\n",
            "Setting up libjson-perl (2.97001-1) ...\n",
            "Setting up libjson-xs-perl (3.040-1) ...\n"
          ],
          "name": "stdout"
        }
      ]
    },
    {
      "metadata": {
        "id": "mJ0q66Nwva9y",
        "colab_type": "text"
      },
      "cell_type": "markdown",
      "source": [
        "## Add the BLAST+ applications to your PATH"
      ]
    },
    {
      "metadata": {
        "id": "gkaEanNN7hLl",
        "colab_type": "code",
        "colab": {}
      },
      "cell_type": "code",
      "source": [
        "import os\n",
        "os.environ['PATH'] += \":/content/ncbi-blast-2.8.0+/bin/\"\n"
      ],
      "execution_count": 0,
      "outputs": []
    },
    {
      "metadata": {
        "id": "mozU2eX_wEg7",
        "colab_type": "text"
      },
      "cell_type": "markdown",
      "source": [
        "## Download a BLAST database from NCBI\n",
        "Next we will download the (relatively small) swissprot database to the current working directory."
      ]
    },
    {
      "metadata": {
        "colab_type": "code",
        "id": "eacSrEH9wCGZ",
        "outputId": "f102b52d-78cf-45e5-c580-3805cf131dd3",
        "colab": {
          "base_uri": "https://localhost:8080/",
          "height": 102
        }
      },
      "cell_type": "code",
      "source": [
        "! update_blastdb.pl --blastdb_version 5 --decompress swissprot taxdb"
      ],
      "execution_count": 0,
      "outputs": [
        {
          "output_type": "stream",
          "text": [
            "Connected to NCBI\n",
            "Downloading swissprot.tar.gz... [OK]\n",
            "Downloading taxdb.tar.gz... [OK]\n",
            "Decompressing swissprot.tar.gz ... [OK]\n",
            "Decompressing taxdb.tar.gz ... [OK]\n"
          ],
          "name": "stdout"
        }
      ]
    },
    {
      "metadata": {
        "id": "Zg-D2bOQ5s5U",
        "colab_type": "text"
      },
      "cell_type": "markdown",
      "source": [
        "## Run BLAST\n",
        "In this example we will filter the swissprot database to search mouse sequences (NCBI taxonomy ID 10090) only; our query sequence is identified by accession P38398 (BRCA1 susceptibility protein)"
      ]
    },
    {
      "metadata": {
        "id": "Cw9fKlNx5wWT",
        "colab_type": "code",
        "colab": {}
      },
      "cell_type": "code",
      "source": [
        "! echo P38398 | blastp -taxids 10090 -db swissprot -outfmt '7 std scomname' -out blast-results.tab"
      ],
      "execution_count": 0,
      "outputs": []
    },
    {
      "metadata": {
        "id": "rg15RNTjyQ6S",
        "colab_type": "text"
      },
      "cell_type": "markdown",
      "source": [
        "## Inspect the results\n",
        "Let's take a look at the top hits from this BLAST search. The last column of BLAST report below shows that all hits meet the filtering criteria of restricting results to mouse sequences."
      ]
    },
    {
      "metadata": {
        "id": "LMZ-uEiV5-Va",
        "colab_type": "code",
        "outputId": "443e31a0-5981-4be2-8a99-484fd2a3cea7",
        "colab": {
          "base_uri": "https://localhost:8080/",
          "height": 207
        }
      },
      "cell_type": "code",
      "source": [
        "! head blast-results.tab"
      ],
      "execution_count": 0,
      "outputs": [
        {
          "output_type": "stream",
          "text": [
            "# BLASTP 2.8.0+\n",
            "# Query: P38398.2 RecName: Full=Breast cancer type 1 susceptibility protein; AltName: Full=RING finger protein 53; AltName: Full=RING-type E3 ubiquitin transferase BRCA1\n",
            "# Database: swissprot\n",
            "# Fields: query acc.ver, subject acc.ver, % identity, alignment length, mismatches, gap opens, q. start, q. end, s. start, s. end, evalue, bit score, subject com names\n",
            "# 141 hits found\n",
            "P38398.2\tP48754.3\t55.985\t1863\t752\t32\t1\t1858\t1\t1800\t0.0\t1845\thouse mouse\n",
            "P38398.2\tQ3UWZ0.1\t30.986\t71\t49\t0\t14\t84\t6\t76\t2.88e-08\t57.8\thouse mouse\n",
            "P38398.2\tQ6PCN7.1\t38.235\t68\t36\t1\t14\t75\t738\t805\t5.59e-08\t57.8\thouse mouse\n",
            "P38398.2\tQ61510.2\t37.333\t75\t46\t1\t15\t88\t4\t78\t1.12e-07\t56.2\thouse mouse\n",
            "P38398.2\tQ1XH17.1\t31.081\t74\t49\t1\t18\t89\t8\t81\t1.84e-07\t55.5\thouse mouse\n"
          ],
          "name": "stdout"
        }
      ]
    }
  ]
}