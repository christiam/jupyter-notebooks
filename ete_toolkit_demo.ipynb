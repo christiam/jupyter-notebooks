{
  "nbformat": 4,
  "nbformat_minor": 0,
  "metadata": {
    "colab": {
      "name": "ete-toolkit-demo.ipynb",
      "provenance": [],
      "collapsed_sections": [],
      "include_colab_link": true
    },
    "kernelspec": {
      "name": "python3",
      "display_name": "Python 3"
    }
  },
  "cells": [
    {
      "cell_type": "markdown",
      "metadata": {
        "id": "view-in-github",
        "colab_type": "text"
      },
      "source": [
        "<a href=\"https://colab.research.google.com/github/christiam/jupyter-notebooks/blob/master/ete_toolkit_demo.ipynb\" target=\"_parent\"><img src=\"https://colab.research.google.com/assets/colab-badge.svg\" alt=\"Open In Colab\"/></a>"
      ]
    },
    {
      "cell_type": "markdown",
      "metadata": {
        "id": "XGnXG90dXi71",
        "colab_type": "text"
      },
      "source": [
        "# Set up miniconda\n"
      ]
    },
    {
      "cell_type": "code",
      "metadata": {
        "id": "eE3fXs_-Xhv0",
        "colab_type": "code",
        "colab": {
          "base_uri": "https://localhost:8080/",
          "height": 459
        },
        "outputId": "8721a400-83e8-4495-c1bf-78cf6d91c2c1"
      },
      "source": [
        "%%bash \n",
        "wget -q http://repo.continuum.io/miniconda/Miniconda3-latest-Linux-x86_64.sh -O Miniconda3-latest-Linux-x86_64.sh\n",
        "bash Miniconda3-latest-Linux-x86_64.sh -b -p ~/anaconda_ete\n",
        "\n",
        "export PATH=~/anaconda_ete/bin:$PATH;\n",
        "\n",
        "# Install ETE\n",
        "conda install -c etetoolkit ete3 ete_toolchain python=3.6\n",
        "\n",
        "# Check installation\n",
        "ete3 build check"
      ],
      "execution_count": 1,
      "outputs": [
        {
          "output_type": "stream",
          "text": [
            "Collecting package metadata (current_repodata.json): ...working... done\n",
            "Solving environment: ...working... done\n",
            "\n",
            "# All requested packages already installed.\n",
            "\n",
            "Current Toolchain path: /root/anaconda_ete/bin/ete3_apps \n",
            "Current Toolchain version: unknown\n",
            "       clustalo: \u001b[32mOK\u001b[0m - 1.2.4\n",
            "         codeml: \u001b[32mOK\u001b[0m - AAML in paml version 4.8a, July 2014\n",
            "      dialigntx: \u001b[32mOK\u001b[0m - This is DIALIGN-TX Version 1.0.2 - A Multiple Sequence alignment program.\n",
            "       fasttree: \u001b[32mOK\u001b[0m - FastTree Version 2.1.8 Double precision (No SSE3), OpenMP (1 threads)\n",
            "         iqtree: \u001b[32mOK\u001b[0m - IQ-TREE multicore version 1.5.5 for Linux 64-bit built Jun  2 2017\n",
            "         kalign: \u001b[32mOK\u001b[0m - Kalign version 2.04, Copyright (C) 2004, 2005, 2006 Timo Lassmann\n",
            "          mafft: \u001b[32mOK\u001b[0m - MAFFT v6.861b (2011/09/24)\n",
            "         muscle: \u001b[32mOK\u001b[0m - MUSCLE v3.8.31 by Robert C. Edgar\n",
            "          phyml: \u001b[32mOK\u001b[0m - . This is PhyML version 20160115.\n",
            "     pmodeltest: \u001b[32mOK\u001b[0m - pmodeltest.py v1.4\n",
            "          raxml: \u001b[32mOK\u001b[0m - This is RAxML version 8.2.11 released by Alexandros Stamatakis on June 2017.\n",
            " raxml-pthreads: \u001b[32mOK\u001b[0m - This is RAxML version 8.2.11 released by Alexandros Stamatakis on June 2017.\n",
            "         readal: \u001b[32mOK\u001b[0m - readAl v1.4.rev6 build[2012-02-02]\n",
            "            slr: \u001b[32mOK\u001b[0m - # SLR \"Sitewise Likelihood Ratio\" selection detection program. Version 1.4.3\n",
            "         statal: \u001b[32mOK\u001b[0m - statAl v1.4.rev6 build[2012-02-02]\n",
            "        tcoffee: \u001b[32mOK\u001b[0m - PROGRAM: T-COFFEE Version_11.00.8cbe486 (2014-08-12 22:05:29 - Revision 8cbe486 - Build 477)\n",
            "         trimal: \u001b[32mOK\u001b[0m - trimAl v1.4.rev6 build[2012-02-02]\n"
          ],
          "name": "stdout"
        },
        {
          "output_type": "stream",
          "text": [
            "ERROR: File or directory already exists: '/root/anaconda_ete'\n",
            "If you want to update an existing installation, use the -u option.\n"
          ],
          "name": "stderr"
        }
      ]
    },
    {
      "cell_type": "markdown",
      "metadata": {
        "id": "it1yTXRnX-Tq",
        "colab_type": "text"
      },
      "source": [
        "# Now try some functionality"
      ]
    },
    {
      "cell_type": "markdown",
      "metadata": {
        "id": "WO5cH6v2kz9n",
        "colab_type": "text"
      },
      "source": [
        "First we have to add the ete3 libraries to the python runtime..."
      ]
    },
    {
      "cell_type": "code",
      "metadata": {
        "id": "eHPtgz-pftzm",
        "colab_type": "code",
        "colab": {}
      },
      "source": [
        "import sys\n",
        "sys.path.append('/root/anaconda_ete/lib/python3.6/site-packages')"
      ],
      "execution_count": 0,
      "outputs": []
    },
    {
      "cell_type": "code",
      "metadata": {
        "id": "x-voMxEHXxyw",
        "colab_type": "code",
        "colab": {
          "base_uri": "https://localhost:8080/",
          "height": 187
        },
        "outputId": "bbd9657b-381a-4aed-b013-b75e985dced0"
      },
      "source": [
        "from ete3 import Tree\n",
        "t = Tree()\n",
        "t.populate(5)\n",
        "print(t)"
      ],
      "execution_count": 3,
      "outputs": [
        {
          "output_type": "stream",
          "text": [
            "\n",
            "      /-aaaaaaaaab\n",
            "   /-|\n",
            "  |   \\-aaaaaaaaac\n",
            "--|\n",
            "  |      /-aaaaaaaaad\n",
            "  |   /-|\n",
            "   \\-|   \\-aaaaaaaaae\n",
            "     |\n",
            "      \\-aaaaaaaaaa\n"
          ],
          "name": "stdout"
        }
      ]
    }
  ]
}